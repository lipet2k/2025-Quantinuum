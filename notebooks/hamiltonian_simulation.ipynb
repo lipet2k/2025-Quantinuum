{
 "cells": [
  {
   "cell_type": "markdown",
   "metadata": {},
   "source": [
    "# Hamiltonian Simulation\n",
    "\n",
    "In this part of the challenge we study the evolution of closed quantum systems, i.e. systems that are described by a Hamiltonian operator $H$.\n",
    "One important aspect of this is the so-called Trotterization of the time evolution circuit, which we will explain in more detail below.\n",
    "\n",
    "Useful literature:\n",
    "- [1] A. Montanaro, Quantum Computation, Lecture notes, Chapter 7, https://people.maths.bris.ac.uk/~csxam/teaching/qc2020/lecturenotes.pdf \n",
    "- [2] T. Prosen, \"Exact nonequilibrium steady state of a strongly driven open XXZ chain\", arXiv:1106.2978, https://arxiv.org/abs/1106.2978 (2011)\n",
    "- [3] A. M. Childs et al., \"A Theory of Trotter Error\", https://arxiv.org/abs/1912.08854 (2021)\n",
    "- [4] Qiskit Docs, https://docs.quantum.ibm.com/api/qiskit/qiskit.synthesis.SuzukiTrotter\n",
    "- [5] Quantinuum Docs, https://docs.quantinuum.com/h-series/trainings/getting_started/pytket_quantinuum/Quantinuum_native_gate_compilation.html"
   ]
  },
  {
   "cell_type": "code",
   "execution_count": 1079,
   "metadata": {},
   "outputs": [],
   "source": [
    "# configure some visualisations\n",
    "\n",
    "from pytket.circuit.display import get_circuit_renderer\n",
    "\n",
    "circuit_renderer = get_circuit_renderer()\n",
    "\n",
    "circuit_renderer.set_render_options(zx_style=False)\n",
    "circuit_renderer.set_render_options(crop_params=False)\n",
    "circuit_renderer.save_render_options()"
   ]
  },
  {
   "cell_type": "markdown",
   "metadata": {},
   "source": [
    "## Background"
   ]
  },
  {
   "cell_type": "markdown",
   "metadata": {},
   "source": [
    "##### Time evolution\n",
    "\n",
    "Quantum computers offer the potential to speedup simulations of systems in which quantum mechanical effects play a significant role.\n",
    "\n",
    "In quantum mechanics, the evolution of a system is governed by the Hamiltonian $H$. This is a Hermitian operator whose eigenvalues give the energy spectrum of the system. In what follows we will assume that a Hamiltonian can be represented as a ($2^N \\times 2^N$) matrix where $N$ is the number of qubits.\n",
    "\n",
    "The evolution of a pure quantum state is described by the Schrödinger equation\n",
    "\n",
    "$$\n",
    " i \\hbar \\frac{d}{dt} | \\psi(t)\\rangle = H |\\psi(t)\\rangle\n",
    "$$\n",
    "We wet $\\hbar = 1$ in the following.\n",
    "\n",
    "In general $H$ could be time dependent but we will not consider this case for now.\n",
    "\n",
    "\n",
    "It can be shown that the solution to this equation is \n",
    "\n",
    "$$\n",
    "|\\psi(t)\\rangle = e^{-i H t} |\\psi(0)\\rangle = U(t) |\\psi(0)\\rangle\\,, \\quad U(t) := e^{-i H t}\n",
    "$$\n",
    "\n",
    "We call the operator $U(t)$ the unitary time evolution operator.\n",
    "\n",
    "Observe that we are taking the exponential of the Hamiltonian matrix $H$. We can make sense of this using the series expansion of the exponential function.\n",
    "\n",
    "$$\n",
    "e^A = \\sum_{k=0}^\\infty \\frac{A^k}{k!}\\,.\n",
    "$$\n",
    "\n",
    "Now in order to simulate the evolution of a Hamiltonian $H$ on a quantum computer we need to express the time evolution operator in terms of elementary quantum gates.\n",
    "\n",
    "##### Decompososing Hamiltonians into Pauli operators\n",
    "\n",
    "Towards this goal, it is often useful to express $H$ as a linear combination of Pauli strings.\n",
    "$$\n",
    "H = \\sum_{j = 0}^{2^N -1} \\alpha_j P_j\\,, \\quad \\alpha_j \\in \\mathbb{R}\n",
    "$$\n",
    "Here each Pauli string $P_j$ is a tensor product of $N$ Pauli operators\n",
    "$$\n",
    "P_j = \\bigotimes_{j=0}^N \\sigma_j\\,, \\quad \\sigma_j \\in \\{I, X, Y, Z\\} \\,.\n",
    "$$\n",
    "The operators $P_j$ form a basis for all matrices of dimension $(2^N \\times 2^N)$. This means that any $N$ qubit operator can be expressed as a linear combination of Pauli strings $P_j$ with coefficients $\\alpha_j$.\n",
    "\n",
    "The $X, Y \\, \\text{and} \\, Z$ operators have the usual definitions\n",
    "$$\n",
    "X = \n",
    "\\begin{pmatrix}\n",
    "0 & 1 \\\\\n",
    "1 & 0\n",
    "\\end{pmatrix}\\,, \\quad Y = \n",
    "\\begin{pmatrix}\n",
    "0 & -i \\\\\n",
    "i & 0\n",
    "\\end{pmatrix}\\,, \\quad Z = \n",
    "\\begin{pmatrix}\n",
    "1 & 0 \\\\\n",
    "0 & -1\n",
    "\\end{pmatrix}\\,, \\quad\n",
    "I = \n",
    "\\begin{pmatrix}\n",
    "1 & 0 \\\\\n",
    "0 & 1\n",
    "\\end{pmatrix}\n",
    "$$\n",
    "\n",
    "Note that in general the terms of $H$, i.e. the different Pauli strings, do not commute with each other. This means that their commutator\n",
    "$$\n",
    "[P_i , P_j] \\coloneqq P_iP_j - P_jP_i \\neq 0\n",
    "$$\n",
    "is not zero. If for any two operators $A, B$ we have $[A, B] \\coloneqq AB - BA = 0$, both operators \"commute\", i.e. $AB = BA$.\n",
    "For commuting operators $A, B$, we have $e^{-it(A + B)} = e^{-itA}e^{-itB}$, i.e. the exponential factorizes. For Pauli strings $P_i$, each $e^{-itP_i}$ can be directly implemented as a quantum gate (as we see below), thus for Hamiltonians build from commuting Pauli strings, we have a straight-forward recipe to construct the time evolution operator $e^{-itH}$."
   ]
  },
  {
   "cell_type": "markdown",
   "metadata": {},
   "source": [
    "## Example: The XXZ Heisenberg model\n",
    "\n",
    "Now let's consider a concrete example of a Hamiltonian. We can start with the $XXZ$ model.\n",
    "$$\n",
    "H_{XXZ} = \\sum_{k=1}^{N-1} X^{(k)} X^{(k+1)} + Y^{(k)}  Y^{(k+1)} + \\Delta (Z^{(k)} Z^{(k+1)} ) \n",
    "$$\n",
    "with $\\Delta \\in \\mathbb{R}$. Here $A^{(k)} = I \\otimes \\cdots \\otimes I \\otimes A \\otimes I \\otimes \\cdots \\otimes I$, where $A \\in \\lbrace X, Y, Z\\rbrace$ is inserted on the $k$-th position, i.e. it is acting on the $k$-th qubits. Identities $I$ mean that no operations are performed on those qubits.\n",
    "\n",
    "\n",
    "This model describes a chain of $N$ qubits (sometimes also called spins), where each pair of neighboring spins $(i, i+1)$ interacts through the terms $XX$, $YY$ and $ZZ$.\n",
    "\n"
   ]
  },
  {
   "cell_type": "markdown",
   "metadata": {},
   "source": [
    "\n",
    "In the following we give an example how to implement this Hamiltonian in pytket.\n",
    "\n",
    "[See also [2], which will become important for the second part of this challenge on Lindblad simulation. They are using a slightly different form of the Hamiltonian, given below their Eq. (1). Show that this can be recast into the form given above.]"
   ]
  },
  {
   "cell_type": "markdown",
   "metadata": {},
   "source": [
    "With `._dict` we obtain a nice overview of all the Pauli strings $P_i$ and coefficients $\\alpha_i$."
   ]
  },
  {
   "cell_type": "code",
   "execution_count": 1080,
   "metadata": {},
   "outputs": [],
   "source": [
    "from pytket.utils import QubitPauliOperator\n",
    "from pytket.pauli import Pauli, QubitPauliString\n",
    "import networkx as nx\n",
    "from pytket.circuit import Qubit\n",
    "\n",
    "def get_xxz_chain_hamiltonian(n_qubits: int, Delta_ZZ: float) -> QubitPauliOperator:\n",
    "    sites = nx.path_graph(n_qubits)\n",
    "    qpo_dict = {}\n",
    "    for e in sites.edges:\n",
    "        zz_term = QubitPauliString([Qubit(e[0]), Qubit(e[1])], [Pauli.Z, Pauli.Z])\n",
    "        xx_term = QubitPauliString([Qubit(e[0]), Qubit(e[1])], [Pauli.X, Pauli.X])\n",
    "        yy_term = QubitPauliString([Qubit(e[0]), Qubit(e[1])], [Pauli.Y, Pauli.Y])\n",
    "        qpo_dict[zz_term] = Delta_ZZ\n",
    "        qpo_dict[xx_term] = 1.0\n",
    "        qpo_dict[yy_term] = 1.0\n",
    "\n",
    "    return QubitPauliOperator(qpo_dict)"
   ]
  },
  {
   "cell_type": "code",
   "execution_count": 1081,
   "metadata": {},
   "outputs": [],
   "source": [
    "n_qubits = 5\n",
    "Delta_ZZ = 1.72\n",
    "Delta_ZZ = 0.5\n",
    "\n",
    "xxz_ham = get_xxz_chain_hamiltonian(n_qubits=n_qubits, Delta_ZZ=Delta_ZZ)"
   ]
  },
  {
   "cell_type": "code",
   "execution_count": 1082,
   "metadata": {},
   "outputs": [
    {
     "data": {
      "text/plain": [
       "{(Zq[0], Zq[1]): 0.500000000000000,\n",
       " (Xq[0], Xq[1]): 1.00000000000000,\n",
       " (Yq[0], Yq[1]): 1.00000000000000,\n",
       " (Zq[1], Zq[2]): 0.500000000000000,\n",
       " (Xq[1], Xq[2]): 1.00000000000000,\n",
       " (Yq[1], Yq[2]): 1.00000000000000,\n",
       " (Zq[2], Zq[3]): 0.500000000000000,\n",
       " (Xq[2], Xq[3]): 1.00000000000000,\n",
       " (Yq[2], Yq[3]): 1.00000000000000,\n",
       " (Zq[3], Zq[4]): 0.500000000000000,\n",
       " (Xq[3], Xq[4]): 1.00000000000000,\n",
       " (Yq[3], Yq[4]): 1.00000000000000}"
      ]
     },
     "execution_count": 1082,
     "metadata": {},
     "output_type": "execute_result"
    }
   ],
   "source": [
    "xxz_ham._dict"
   ]
  },
  {
   "cell_type": "markdown",
   "metadata": {},
   "source": [
    "You can get the numpy or scipy matrix representations of the QubitPauliOperator with "
   ]
  },
  {
   "cell_type": "code",
   "execution_count": 1083,
   "metadata": {},
   "outputs": [
    {
     "data": {
      "text/plain": [
       "(32, 32)"
      ]
     },
     "execution_count": 1083,
     "metadata": {},
     "output_type": "execute_result"
    }
   ],
   "source": [
    "xxz_ham_matrix = xxz_ham.to_sparse_matrix(qubits=[Qubit(i) for i in range(n_qubits)]).todense()\n",
    "xxz_ham_matrix.shape"
   ]
  },
  {
   "cell_type": "markdown",
   "metadata": {},
   "source": [
    "Now we want to synthesise a circuit to implement the time evolution operator for $H_{XXZ}$\n",
    "$$\n",
    "U(t) = e^{-it \\sum_{k=1}^{N-1} X^{(k)} X^{(k+1)} + Y^{(k)}  Y^{(k+1)} + \\Delta (Z^{(k)} Z^{(k+1)} ) }\n",
    "$$\n",
    "\n",
    "In fact, the different terms in the XXZ Hamiltonian above commute with each other, which means that\n",
    "$$\n",
    "e^{-itH_{XXZ}} = \\prod_{k=1}^{N-1} e^{-it X^{(k)} X^{(k+1)}}  e^{-it Y^{(k)}  Y^{(k+1)}}  e^{-it \\Delta \\big( Z^{(k)} Z^{(k+1)} \\big)} .\n",
    "$$\n",
    "Each of the exponentials can be implemented as a quantum circuit and we obtain the full time evolution circuit by concatenating all of these circuits.\n",
    "\n",
    "First lets look at a circuit which simulates the evolution $e^{-it \\Delta Z^{(1)} Z^{(2)}} $.\n",
    "We can show that the circuit below does the job."
   ]
  },
  {
   "cell_type": "code",
   "execution_count": 1084,
   "metadata": {
    "scrolled": true
   },
   "outputs": [
    {
     "data": {
      "text/html": [
       "\n",
       "\n",
       "\n",
       "\n",
       "\n",
       "\n",
       "<div style=\"resize: vertical; overflow: auto; height: 400px; display: block\">\n",
       "    <iframe srcdoc=\"\n",
       "&lt;!DOCTYPE html&gt;\n",
       "&lt;html lang=&#34;en&#34;&gt;\n",
       "&lt;head&gt;\n",
       "    &lt;meta charset=&#34;UTF-8&#34;&gt;\n",
       "    &lt;!-- Download Vue 3--&gt;\n",
       "&lt;script type=&#34;application/javascript&#34; src=&#34;https://cdn.jsdelivr.net/npm/vue@3&#34;&gt;&lt;/script&gt;\n",
       "&lt;!-- Download Circuit Renderer with styles --&gt;\n",
       "&lt;script type=&#34;application/javascript&#34; src=&#34;https://unpkg.com/pytket-circuit-renderer@0.10/dist/pytket-circuit-renderer.umd.js&#34;&gt;&lt;/script&gt;\n",
       "&lt;link rel=&#34;stylesheet&#34; href=&#34;https://unpkg.com/pytket-circuit-renderer@0.10/dist/pytket-circuit-renderer.css&#34;&gt;\n",
       "&lt;/head&gt;\n",
       "&lt;body&gt;\n",
       "\n",
       "\n",
       "    &lt;div id=&#34;circuit-display-vue-container-a144cc90-a029-4d82-941d-cb8a007eb336&#34; class=&#34;pytket-circuit-display-container&#34;&gt;\n",
       "        &lt;div style=&#34;display: none&#34;&gt;\n",
       "            &lt;div id=&#34;circuit-json-to-display&#34;&gt;{&#34;bits&#34;: [], &#34;commands&#34;: [{&#34;args&#34;: [[&#34;q&#34;, [0]], [&#34;q&#34;, [1]]], &#34;op&#34;: {&#34;type&#34;: &#34;CX&#34;}}, {&#34;args&#34;: [[&#34;q&#34;, [1]]], &#34;op&#34;: {&#34;params&#34;: [&#34;2*t*Delta&#34;], &#34;type&#34;: &#34;Rz&#34;}}, {&#34;args&#34;: [[&#34;q&#34;, [0]], [&#34;q&#34;, [1]]], &#34;op&#34;: {&#34;type&#34;: &#34;CX&#34;}}], &#34;created_qubits&#34;: [], &#34;discarded_qubits&#34;: [], &#34;implicit_permutation&#34;: [[[&#34;q&#34;, [0]], [&#34;q&#34;, [0]]], [[&#34;q&#34;, [1]], [&#34;q&#34;, [1]]]], &#34;phase&#34;: &#34;0.0&#34;, &#34;qubits&#34;: [[&#34;q&#34;, [0]], [&#34;q&#34;, [1]]]}&lt;/div&gt;\n",
       "        &lt;/div&gt;\n",
       "        &lt;circuit-display-container\n",
       "                :circuit-element-str=&#34;&#39;#circuit-json-to-display&#39;&#34;\n",
       "                :init-render-options=&#34;initRenderOptions&#34;\n",
       "                view-format=&#34;None&#34;\n",
       "        &gt;&lt;/circuit-display-container&gt;\n",
       "    &lt;/div&gt;\n",
       "    &lt;script type=&#34;application/javascript&#34;&gt;\n",
       "      const circuitRendererUid = &#34;a144cc90-a029-4d82-941d-cb8a007eb336&#34;;\n",
       "      const displayOptions = JSON.parse(&#39;{&#34;zxStyle&#34;: false, &#34;cropParams&#34;: false}&#39;);\n",
       "\n",
       "      // Script to initialise the circuit renderer app\n",
       "\n",
       "const { createApp } = Vue;\n",
       "const circuitDisplayContainer = window[&#34;pytket-circuit-renderer&#34;].default;\n",
       "// Init variables to be shared between circuit display instances\n",
       "if (typeof window.pytketCircuitDisplays === &#34;undefined&#34;) {\n",
       "    window.pytketCircuitDisplays = {};\n",
       "}\n",
       "// Create the root Vue component\n",
       "const app = createApp({\n",
       "    delimiters: [&#39;[[#&#39;, &#39;#]]&#39;],\n",
       "    components: { circuitDisplayContainer },\n",
       "    data () {\n",
       "      return {\n",
       "        initRenderOptions: displayOptions,\n",
       "      }\n",
       "    }\n",
       "})\n",
       "app.config.unwrapInjectedRef = true;\n",
       "app.mount(&#34;#circuit-display-vue-container-&#34;+circuitRendererUid);\n",
       "window.pytketCircuitDisplays[circuitRendererUid] = app;\n",
       "    &lt;/script&gt;\n",
       "\n",
       "\n",
       "\n",
       "&lt;/body&gt;\n",
       "&lt;/html&gt;\n",
       "\"\n",
       "            width=\"100%\" height=\"100%\"\n",
       "            style=\"border: none; outline: none; overflow: auto\"></iframe>\n",
       "</div>\n",
       "\n"
      ],
      "text/plain": [
       "<IPython.core.display.HTML object>"
      ]
     },
     "metadata": {},
     "output_type": "display_data"
    }
   ],
   "source": [
    "from pytket import Circuit\n",
    "from sympy import symbols\n",
    "from pytket.circuit.display import render_circuit_jupyter as draw\n",
    "\n",
    "delta, t = symbols(\"Delta, t\")\n",
    "\n",
    "circ = Circuit(2)\n",
    "circ.CX(0, 1)\n",
    "circ.Rz(2*delta * t, 1)\n",
    "circ.CX(0, 1)\n",
    "\n",
    "draw(circ)"
   ]
  },
  {
   "cell_type": "markdown",
   "metadata": {},
   "source": [
    "Similarly for a term like $e^{-it \\Delta Z^{(1)} Z^{(2)} Z^{(3)}} $ the three qubit circuit works\n"
   ]
  },
  {
   "cell_type": "code",
   "execution_count": 1085,
   "metadata": {},
   "outputs": [
    {
     "data": {
      "text/html": [
       "\n",
       "\n",
       "\n",
       "\n",
       "\n",
       "\n",
       "<div style=\"resize: vertical; overflow: auto; height: 400px; display: block\">\n",
       "    <iframe srcdoc=\"\n",
       "&lt;!DOCTYPE html&gt;\n",
       "&lt;html lang=&#34;en&#34;&gt;\n",
       "&lt;head&gt;\n",
       "    &lt;meta charset=&#34;UTF-8&#34;&gt;\n",
       "    &lt;!-- Download Vue 3--&gt;\n",
       "&lt;script type=&#34;application/javascript&#34; src=&#34;https://cdn.jsdelivr.net/npm/vue@3&#34;&gt;&lt;/script&gt;\n",
       "&lt;!-- Download Circuit Renderer with styles --&gt;\n",
       "&lt;script type=&#34;application/javascript&#34; src=&#34;https://unpkg.com/pytket-circuit-renderer@0.10/dist/pytket-circuit-renderer.umd.js&#34;&gt;&lt;/script&gt;\n",
       "&lt;link rel=&#34;stylesheet&#34; href=&#34;https://unpkg.com/pytket-circuit-renderer@0.10/dist/pytket-circuit-renderer.css&#34;&gt;\n",
       "&lt;/head&gt;\n",
       "&lt;body&gt;\n",
       "\n",
       "\n",
       "    &lt;div id=&#34;circuit-display-vue-container-ad0cb804-b8da-4e7c-b2a4-44af9336afec&#34; class=&#34;pytket-circuit-display-container&#34;&gt;\n",
       "        &lt;div style=&#34;display: none&#34;&gt;\n",
       "            &lt;div id=&#34;circuit-json-to-display&#34;&gt;{&#34;bits&#34;: [], &#34;commands&#34;: [{&#34;args&#34;: [[&#34;q&#34;, [0]], [&#34;q&#34;, [1]]], &#34;op&#34;: {&#34;type&#34;: &#34;CX&#34;}}, {&#34;args&#34;: [[&#34;q&#34;, [1]], [&#34;q&#34;, [2]]], &#34;op&#34;: {&#34;type&#34;: &#34;CX&#34;}}, {&#34;args&#34;: [[&#34;q&#34;, [2]]], &#34;op&#34;: {&#34;params&#34;: [&#34;2*t*Delta&#34;], &#34;type&#34;: &#34;Rz&#34;}}, {&#34;args&#34;: [[&#34;q&#34;, [1]], [&#34;q&#34;, [2]]], &#34;op&#34;: {&#34;type&#34;: &#34;CX&#34;}}, {&#34;args&#34;: [[&#34;q&#34;, [0]], [&#34;q&#34;, [1]]], &#34;op&#34;: {&#34;type&#34;: &#34;CX&#34;}}], &#34;created_qubits&#34;: [], &#34;discarded_qubits&#34;: [], &#34;implicit_permutation&#34;: [[[&#34;q&#34;, [0]], [&#34;q&#34;, [0]]], [[&#34;q&#34;, [1]], [&#34;q&#34;, [1]]], [[&#34;q&#34;, [2]], [&#34;q&#34;, [2]]]], &#34;phase&#34;: &#34;0.0&#34;, &#34;qubits&#34;: [[&#34;q&#34;, [0]], [&#34;q&#34;, [1]], [&#34;q&#34;, [2]]]}&lt;/div&gt;\n",
       "        &lt;/div&gt;\n",
       "        &lt;circuit-display-container\n",
       "                :circuit-element-str=&#34;&#39;#circuit-json-to-display&#39;&#34;\n",
       "                :init-render-options=&#34;initRenderOptions&#34;\n",
       "                view-format=&#34;None&#34;\n",
       "        &gt;&lt;/circuit-display-container&gt;\n",
       "    &lt;/div&gt;\n",
       "    &lt;script type=&#34;application/javascript&#34;&gt;\n",
       "      const circuitRendererUid = &#34;ad0cb804-b8da-4e7c-b2a4-44af9336afec&#34;;\n",
       "      const displayOptions = JSON.parse(&#39;{&#34;zxStyle&#34;: false, &#34;cropParams&#34;: false}&#39;);\n",
       "\n",
       "      // Script to initialise the circuit renderer app\n",
       "\n",
       "const { createApp } = Vue;\n",
       "const circuitDisplayContainer = window[&#34;pytket-circuit-renderer&#34;].default;\n",
       "// Init variables to be shared between circuit display instances\n",
       "if (typeof window.pytketCircuitDisplays === &#34;undefined&#34;) {\n",
       "    window.pytketCircuitDisplays = {};\n",
       "}\n",
       "// Create the root Vue component\n",
       "const app = createApp({\n",
       "    delimiters: [&#39;[[#&#39;, &#39;#]]&#39;],\n",
       "    components: { circuitDisplayContainer },\n",
       "    data () {\n",
       "      return {\n",
       "        initRenderOptions: displayOptions,\n",
       "      }\n",
       "    }\n",
       "})\n",
       "app.config.unwrapInjectedRef = true;\n",
       "app.mount(&#34;#circuit-display-vue-container-&#34;+circuitRendererUid);\n",
       "window.pytketCircuitDisplays[circuitRendererUid] = app;\n",
       "    &lt;/script&gt;\n",
       "\n",
       "\n",
       "\n",
       "&lt;/body&gt;\n",
       "&lt;/html&gt;\n",
       "\"\n",
       "            width=\"100%\" height=\"100%\"\n",
       "            style=\"border: none; outline: none; overflow: auto\"></iframe>\n",
       "</div>\n",
       "\n"
      ],
      "text/plain": [
       "<IPython.core.display.HTML object>"
      ]
     },
     "metadata": {},
     "output_type": "display_data"
    }
   ],
   "source": [
    "circ1 = Circuit(3)\n",
    "circ1.CX(0, 1)\n",
    "circ1.CX(1, 2)\n",
    "circ1.Rz(2*delta * t, 2)\n",
    "circ1.CX(1, 2)\n",
    "circ1.CX(0, 1)\n",
    "\n",
    "draw(circ1)"
   ]
  },
  {
   "cell_type": "markdown",
   "metadata": {},
   "source": [
    "Here, $\\mathrm{Rz}$ gate is defined as \n",
    "$$\n",
    "\\mathrm{Rz}(\\alpha) = e^{-\\frac12 i \\pi \\alpha Z} = \\left[\n",
    "    \\begin{array}{cc} e^{-\\frac12 i \\pi\\alpha} & 0 \\\\ 0 & e^{\\frac12 i\n",
    "    \\pi\\alpha} \\end{array} \\right] \\,.\n",
    "$$"
   ]
  },
  {
   "cell_type": "markdown",
   "metadata": {},
   "source": [
    "### Task 1: Implement the time evolution under the XXZ Hamiltonian.\n",
    "\n",
    "We can easily generate the time evolution under the XXZ Hamiltonian via\n",
    "$$\n",
    "e^{-itH_{XXZ}} = \\prod_{k=1}^{N-1} e^{-it X^{(k)}s X^{(k+1)}}  e^{-it Y^{(k)} Y^{(k+1)}}  e^{-it \\Delta \\big( Z^{(k)} Z^{(k+1)} \\big)} .\n",
    "$$\n",
    "\n",
    "For example, we can use pytket's build-in function `gen_term_sequence_circuit`. Note, you will have to multiply the Hamiltonian (a `QubitPauliOperator`) with the evolution time $t$ to perform the correct time evolution.\n",
    "\n",
    "- Implement the time evolution circuit under $H_{XXZ}$ for a given target time $t$.\n",
    "- Draw the circuit. In pytket you might want to use `DecomposeBoxes()` to visualize all the single- and two-qubit gates.\n",
    "- Explore different ways how to implement the circuit (see the hints below).\n",
    "- Use an empty circuit to initialize the time evolution circuit. I.e. our initial state is $\\ket{\\psi} = \\ket{0}^{\\otimes N}$.\n",
    "\n",
    "Hints:\n",
    "- Study the commutator relation between the two terms of $K_i$. What does this imply?\n",
    "- Alternatively, the two qubit gates $e^{-\\alpha X^{(i)} X^{(j)}}$ and $e^{-\\alpha Y^{(i)} Y^{(j)}}$ can be implemented in pytket via `XXPhase` and `YYPhase`.\n",
    "- Or you can also use pytket's `TK2` gate which implements and arbitrary angle SU(4) gate [x]."
   ]
  },
  {
   "cell_type": "code",
   "execution_count": 1086,
   "metadata": {},
   "outputs": [
    {
     "data": {
      "text/html": [
       "\n",
       "\n",
       "\n",
       "\n",
       "\n",
       "\n",
       "<div style=\"resize: vertical; overflow: auto; height: 400px; display: block\">\n",
       "    <iframe srcdoc=\"\n",
       "&lt;!DOCTYPE html&gt;\n",
       "&lt;html lang=&#34;en&#34;&gt;\n",
       "&lt;head&gt;\n",
       "    &lt;meta charset=&#34;UTF-8&#34;&gt;\n",
       "    &lt;!-- Download Vue 3--&gt;\n",
       "&lt;script type=&#34;application/javascript&#34; src=&#34;https://cdn.jsdelivr.net/npm/vue@3&#34;&gt;&lt;/script&gt;\n",
       "&lt;!-- Download Circuit Renderer with styles --&gt;\n",
       "&lt;script type=&#34;application/javascript&#34; src=&#34;https://unpkg.com/pytket-circuit-renderer@0.10/dist/pytket-circuit-renderer.umd.js&#34;&gt;&lt;/script&gt;\n",
       "&lt;link rel=&#34;stylesheet&#34; href=&#34;https://unpkg.com/pytket-circuit-renderer@0.10/dist/pytket-circuit-renderer.css&#34;&gt;\n",
       "&lt;/head&gt;\n",
       "&lt;body&gt;\n",
       "\n",
       "\n",
       "    &lt;div id=&#34;circuit-display-vue-container-86989b27-9026-4ae4-b43f-39f964357303&#34; class=&#34;pytket-circuit-display-container&#34;&gt;\n",
       "        &lt;div style=&#34;display: none&#34;&gt;\n",
       "            &lt;div id=&#34;circuit-json-to-display&#34;&gt;{&#34;bits&#34;: [], &#34;commands&#34;: [{&#34;args&#34;: [[&#34;q&#34;, [0]], [&#34;q&#34;, [1]]], &#34;op&#34;: {&#34;type&#34;: &#34;CX&#34;}}, {&#34;args&#34;: [[&#34;q&#34;, [1]]], &#34;op&#34;: {&#34;params&#34;: [&#34;2*t*Delta&#34;], &#34;type&#34;: &#34;Rz&#34;}}, {&#34;args&#34;: [[&#34;q&#34;, [0]], [&#34;q&#34;, [1]]], &#34;op&#34;: {&#34;type&#34;: &#34;CX&#34;}}, {&#34;args&#34;: [[&#34;q&#34;, [0]], [&#34;q&#34;, [1]]], &#34;op&#34;: {&#34;params&#34;: [&#34;0.5&#34;], &#34;type&#34;: &#34;YYPhase&#34;}}, {&#34;args&#34;: [[&#34;q&#34;, [0]], [&#34;q&#34;, [1]]], &#34;op&#34;: {&#34;params&#34;: [&#34;0.5&#34;], &#34;type&#34;: &#34;XXPhase&#34;}}, {&#34;args&#34;: [[&#34;q&#34;, [1]], [&#34;q&#34;, [2]]], &#34;op&#34;: {&#34;type&#34;: &#34;CX&#34;}}, {&#34;args&#34;: [[&#34;q&#34;, [2]]], &#34;op&#34;: {&#34;params&#34;: [&#34;2*t*Delta&#34;], &#34;type&#34;: &#34;Rz&#34;}}, {&#34;args&#34;: [[&#34;q&#34;, [1]], [&#34;q&#34;, [2]]], &#34;op&#34;: {&#34;type&#34;: &#34;CX&#34;}}, {&#34;args&#34;: [[&#34;q&#34;, [1]], [&#34;q&#34;, [2]]], &#34;op&#34;: {&#34;params&#34;: [&#34;0.5&#34;], &#34;type&#34;: &#34;YYPhase&#34;}}, {&#34;args&#34;: [[&#34;q&#34;, [1]], [&#34;q&#34;, [2]]], &#34;op&#34;: {&#34;params&#34;: [&#34;0.5&#34;], &#34;type&#34;: &#34;XXPhase&#34;}}, {&#34;args&#34;: [[&#34;q&#34;, [2]], [&#34;q&#34;, [3]]], &#34;op&#34;: {&#34;type&#34;: &#34;CX&#34;}}, {&#34;args&#34;: [[&#34;q&#34;, [3]]], &#34;op&#34;: {&#34;params&#34;: [&#34;2*t*Delta&#34;], &#34;type&#34;: &#34;Rz&#34;}}, {&#34;args&#34;: [[&#34;q&#34;, [2]], [&#34;q&#34;, [3]]], &#34;op&#34;: {&#34;type&#34;: &#34;CX&#34;}}, {&#34;args&#34;: [[&#34;q&#34;, [2]], [&#34;q&#34;, [3]]], &#34;op&#34;: {&#34;params&#34;: [&#34;0.5&#34;], &#34;type&#34;: &#34;YYPhase&#34;}}, {&#34;args&#34;: [[&#34;q&#34;, [2]], [&#34;q&#34;, [3]]], &#34;op&#34;: {&#34;params&#34;: [&#34;0.5&#34;], &#34;type&#34;: &#34;XXPhase&#34;}}], &#34;created_qubits&#34;: [], &#34;discarded_qubits&#34;: [], &#34;implicit_permutation&#34;: [[[&#34;q&#34;, [0]], [&#34;q&#34;, [0]]], [[&#34;q&#34;, [1]], [&#34;q&#34;, [1]]], [[&#34;q&#34;, [2]], [&#34;q&#34;, [2]]], [[&#34;q&#34;, [3]], [&#34;q&#34;, [3]]]], &#34;phase&#34;: &#34;0.0&#34;, &#34;qubits&#34;: [[&#34;q&#34;, [0]], [&#34;q&#34;, [1]], [&#34;q&#34;, [2]], [&#34;q&#34;, [3]]]}&lt;/div&gt;\n",
       "        &lt;/div&gt;\n",
       "        &lt;circuit-display-container\n",
       "                :circuit-element-str=&#34;&#39;#circuit-json-to-display&#39;&#34;\n",
       "                :init-render-options=&#34;initRenderOptions&#34;\n",
       "                view-format=&#34;None&#34;\n",
       "        &gt;&lt;/circuit-display-container&gt;\n",
       "    &lt;/div&gt;\n",
       "    &lt;script type=&#34;application/javascript&#34;&gt;\n",
       "      const circuitRendererUid = &#34;86989b27-9026-4ae4-b43f-39f964357303&#34;;\n",
       "      const displayOptions = JSON.parse(&#39;{&#34;zxStyle&#34;: false, &#34;cropParams&#34;: false}&#39;);\n",
       "\n",
       "      // Script to initialise the circuit renderer app\n",
       "\n",
       "const { createApp } = Vue;\n",
       "const circuitDisplayContainer = window[&#34;pytket-circuit-renderer&#34;].default;\n",
       "// Init variables to be shared between circuit display instances\n",
       "if (typeof window.pytketCircuitDisplays === &#34;undefined&#34;) {\n",
       "    window.pytketCircuitDisplays = {};\n",
       "}\n",
       "// Create the root Vue component\n",
       "const app = createApp({\n",
       "    delimiters: [&#39;[[#&#39;, &#39;#]]&#39;],\n",
       "    components: { circuitDisplayContainer },\n",
       "    data () {\n",
       "      return {\n",
       "        initRenderOptions: displayOptions,\n",
       "      }\n",
       "    }\n",
       "})\n",
       "app.config.unwrapInjectedRef = true;\n",
       "app.mount(&#34;#circuit-display-vue-container-&#34;+circuitRendererUid);\n",
       "window.pytketCircuitDisplays[circuitRendererUid] = app;\n",
       "    &lt;/script&gt;\n",
       "\n",
       "\n",
       "\n",
       "&lt;/body&gt;\n",
       "&lt;/html&gt;\n",
       "\"\n",
       "            width=\"100%\" height=\"100%\"\n",
       "            style=\"border: none; outline: none; overflow: auto\"></iframe>\n",
       "</div>\n",
       "\n"
      ],
      "text/plain": [
       "<IPython.core.display.HTML object>"
      ]
     },
     "metadata": {},
     "output_type": "display_data"
    }
   ],
   "source": [
    "import numpy as np\n",
    "def HXXZ(q_idx_a, q_idx_b,delta,t):\n",
    "    #ZZ\n",
    "    circ.CX(q_idx_a, q_idx_b)\n",
    "    circ.Rz(2*delta * t, q_idx_b)\n",
    "    circ.CX(q_idx_a, q_idx_b)\n",
    "    #YY\n",
    "    circ.YYPhase(1/2,q_idx_a, q_idx_b)\n",
    "    # XX\n",
    "    circ.XXPhase(1/2,q_idx_a, q_idx_b)\n",
    "\n",
    "\n",
    "delta, t = symbols(\"Delta, t\")\n",
    "N = 4\n",
    "circ = Circuit(N)\n",
    "for i in range(N-1):\n",
    "    HXXZ(i, i+1 ,delta,t)\n",
    "\n",
    "\n",
    "\n",
    "draw(circ)"
   ]
  },
  {
   "cell_type": "markdown",
   "metadata": {},
   "source": [
    "## Overview:\n",
    "\n",
    "In the following there are two sections which can be explored independently from each other. The first is about non-commuting Hamiltonians and Trotterization. The second one is about some concrete physical examples of time evolution using quantum circuits for the XXZ Heisenberg model.\n",
    "\n",
    "Each section contains a list of tasks which you can work on. However, you can also get creative and explore other related directions or tasks which might be interesting. After working on those paths, you can of course also try to come up with interesting ideas how to combine concepts from both sections."
   ]
  },
  {
   "cell_type": "code",
   "execution_count": null,
   "metadata": {},
   "outputs": [],
   "source": []
  },
  {
   "cell_type": "markdown",
   "metadata": {},
   "source": [
    "## Section 1: Non-commuting Hamiltonians and Trotterization\n",
    "\n",
    "In this section we investigate the dependence of the Trotter error on the Trotter step size."
   ]
  },
  {
   "cell_type": "markdown",
   "metadata": {},
   "source": [
    "The XXZ Heisenberg model above has only commuting terms. In general this is not the case, and need to be more careful in implementing the time evolution under $H$.\n",
    "\n",
    "Let $A$ and $B$ be square matrices. As discussed above\n",
    "$$\n",
    "[A, B] = AB-BA = 0 \\implies e^{-i(A + B)} = e^{-iA} e^{-iB}\n",
    "$$\n",
    "\n",
    "However if the matrices $A$ and $B$ do not commute then we have an error term to deal with\n",
    "$$\n",
    "||A|| < \\delta\\,, \\quad ||B|| < \\delta \\implies e^{-i(A + B)} = e^{-iA} e^{-iB} + \\mathcal{O}(\\delta^2)\n",
    "$$\n",
    "Here $||.||$ denotes the spectral norm.\n",
    "$$\n",
    "|| A || := \\max_{|\\psi\\rangle \\neq 0} \\frac{||A|\\psi\\rangle ||}{|| \\, |\\psi\\rangle||}\n",
    "$$\n",
    "\n",
    "Now suppose we have a Hamiltonian $H$ expressed as a sum of Hermitian matrices $H_k$.\n",
    "$$\n",
    "H = \\sum_{i=1}^m H_i\n",
    "$$\n",
    "Here, the operators $H_k$ could be the weighted Pauli strings above $H_i = \\alpha_i P_i$.\n",
    "In generalt $[H_i, H_j] \\neq 0$. In this case\n",
    "$$\n",
    "e^{-i H_1 t}e^{-i H_2 t}... e^{-i H_m t} \\neq e^{-i( H_1 + ... H_m) t} \\,.\n",
    "$$\n",
    "However, one can show that for a given target accuracy $\\epsilon$, we can find a (probably large) $p \\in \\mathbb{N}$, such that the distance between both time evolution operators is small,\n",
    "$$\n",
    "|| \\big( e^{-i H_1 t/p}e^{-i H_2 t /p}... e^{-i H_m t/p}\\big)^p - e^{-i( H_1 + ... H_m) t} || \\leq \\epsilon \\,.\n",
    "$$\n",
    "\n",
    "If the $H_i$ are, as assumed above, Pauli strings, we can implement $e^{-i H_1 t/p}e^{-i H_2 t /p}... e^{-i H_m t/p}$ as a quantum circuit and concatenate it $p$ times to obtain a $\\epsilon$-close approximation of the target evolution $e^{-i( H_1 + ... H_m) t}$. The factorization formula $e^{-i H_1 t/p}e^{-i H_2 t /p}... e^{-i H_m t/p}$ is called \"first-order Trotterization\" of $H$. There are higher order Trotterization formulas which are more accurate but also more difficult to implement. We will discuss a few of them below."
   ]
  },
  {
   "cell_type": "markdown",
   "metadata": {},
   "source": [
    "### Task 1: Implement the transverse field Ising model."
   ]
  },
  {
   "cell_type": "markdown",
   "metadata": {},
   "source": [
    "The transverse field Ising model is given by\n",
    "$$\n",
    "H_\\mathrm{Ising} = - J \\sum_{i=1}^{N-1} Z^{(i)} Z^{(i+1)} + g\\sum_{i=1}^N X^{(i)}\n",
    "$$\n",
    "with interaction strength $J$ and transverse field strength $g$. We can set $g=1$ and $J=1.2$ in the following, but other parameter values can be explored."
   ]
  },
  {
   "cell_type": "code",
   "execution_count": 1087,
   "metadata": {},
   "outputs": [],
   "source": [
    "# classical computation for A and B (terms 1 and 2 of H_Ising)"
   ]
  },
  {
   "cell_type": "code",
   "execution_count": 1088,
   "metadata": {},
   "outputs": [],
   "source": [
    "def analytical_ising(\n",
    "    N: int,\n",
    "    t: int = 1,\n",
    "    g: int = 1,\n",
    "    J: float = 1.2,\n",
    "    debug: bool = False\n",
    ") -> np.array:\n",
    "    # finding A\n",
    "    Z = np.array([[1,0],\n",
    "                 [0,-1]])\n",
    "    \n",
    "    A = -J * np.sum(\n",
    "        [\n",
    "            np.kron(\n",
    "                np.kron(np.eye(2**(i-1), dtype=int), Z),\n",
    "                np.kron(Z, np.eye(2**(N-i-1), dtype=int))\n",
    "            )\n",
    "            # python does -1 to the last term of range so this is 1...N-1 fyi\n",
    "            for i in range(1, N)\n",
    "        ],\n",
    "        axis=0\n",
    "    )\n",
    "    \n",
    "    # finding B\n",
    "    X = np.array([[0,1], \n",
    "                  [1,0]])\n",
    "    \n",
    "    B = g * np.sum(\n",
    "        [\n",
    "            np.kron(\n",
    "                np.kron(\n",
    "                    np.eye(2**(i-1), dtype=int), X\n",
    "                ),\n",
    "                np.eye(2**(N-i), dtype=int)\n",
    "            )\n",
    "            for i in range(1, N+1)\n",
    "        ],\n",
    "        axis=0\n",
    "    )\n",
    "\n",
    "    # imaginary u\n",
    "    i = 1j\n",
    "    \n",
    "    H = A + B\n",
    "    \n",
    "    V = np.zeros(len(H))\n",
    "    V[0] = 1\n",
    "    \n",
    "    from scipy.linalg import expm\n",
    "    vector = expm(-1j * H * t) @ V\n",
    "\n",
    "    if debug:\n",
    "        print(f'{A = }')\n",
    "        print(f'{B = }')\n",
    "        print(f'{H = }')\n",
    "        print(f'{V = }')\n",
    "\n",
    "    return vector"
   ]
  },
  {
   "cell_type": "markdown",
   "metadata": {},
   "source": [
    "E.g. use.."
   ]
  },
  {
   "cell_type": "code",
   "execution_count": 1089,
   "metadata": {},
   "outputs": [],
   "source": [
    "import numpy as np\n",
    "def H_ising(\n",
    "    N: int,\n",
    "    circ_obj,\n",
    "    J: float = 1.2,\n",
    "    g: int = 1,\n",
    "    t: int = 1,\n",
    "):\n",
    "    \"\"\"\n",
    "    apply H_ising for each qubit in N or num_qubits\n",
    "    \"\"\"\n",
    "    #X\n",
    "    #ZZ\n",
    "    # circ_obj.CX(k, k+1)\n",
    "    # circ_obj.Rz(-J * t, k+1)\n",
    "    # circ_obj.CX(k, k+1)\n",
    "\n",
    "    for k in range(N-1):\n",
    "        circ_obj.ZZPhase(-2*t*J/np.pi, k, k+1)\n",
    "        circ_obj.Rx(2*g*t/np.pi, k)\n",
    "    \n",
    "    circ_obj.Rx(2*g*t/np.pi, N-1)\n",
    "    return circ_obj\n",
    "\n",
    "def draw_ising_circ_N_qubits(\n",
    "    N: int = 8\n",
    "):\n",
    "    circ = Circuit(N)\n",
    "    # J, g, t = symbols(\"J, g, t\")\n",
    "    circ = H_ising(\n",
    "        N=N,\n",
    "        circ_obj=circ\n",
    "    )\n",
    "    \n",
    "    draw(circ)"
   ]
  },
  {
   "cell_type": "code",
   "execution_count": 1090,
   "metadata": {},
   "outputs": [
    {
     "data": {
      "text/html": [
       "\n",
       "\n",
       "\n",
       "\n",
       "\n",
       "\n",
       "<div style=\"resize: vertical; overflow: auto; height: 400px; display: block\">\n",
       "    <iframe srcdoc=\"\n",
       "&lt;!DOCTYPE html&gt;\n",
       "&lt;html lang=&#34;en&#34;&gt;\n",
       "&lt;head&gt;\n",
       "    &lt;meta charset=&#34;UTF-8&#34;&gt;\n",
       "    &lt;!-- Download Vue 3--&gt;\n",
       "&lt;script type=&#34;application/javascript&#34; src=&#34;https://cdn.jsdelivr.net/npm/vue@3&#34;&gt;&lt;/script&gt;\n",
       "&lt;!-- Download Circuit Renderer with styles --&gt;\n",
       "&lt;script type=&#34;application/javascript&#34; src=&#34;https://unpkg.com/pytket-circuit-renderer@0.10/dist/pytket-circuit-renderer.umd.js&#34;&gt;&lt;/script&gt;\n",
       "&lt;link rel=&#34;stylesheet&#34; href=&#34;https://unpkg.com/pytket-circuit-renderer@0.10/dist/pytket-circuit-renderer.css&#34;&gt;\n",
       "&lt;/head&gt;\n",
       "&lt;body&gt;\n",
       "\n",
       "\n",
       "    &lt;div id=&#34;circuit-display-vue-container-fd589169-d824-4514-80aa-3d9f5f848270&#34; class=&#34;pytket-circuit-display-container&#34;&gt;\n",
       "        &lt;div style=&#34;display: none&#34;&gt;\n",
       "            &lt;div id=&#34;circuit-json-to-display&#34;&gt;{&#34;bits&#34;: [], &#34;commands&#34;: [{&#34;args&#34;: [[&#34;q&#34;, [0]], [&#34;q&#34;, [1]]], &#34;op&#34;: {&#34;params&#34;: [&#34;-0.763943726841098&#34;], &#34;type&#34;: &#34;ZZPhase&#34;}}, {&#34;args&#34;: [[&#34;q&#34;, [0]]], &#34;op&#34;: {&#34;params&#34;: [&#34;0.636619772367581&#34;], &#34;type&#34;: &#34;Rx&#34;}}, {&#34;args&#34;: [[&#34;q&#34;, [1]], [&#34;q&#34;, [2]]], &#34;op&#34;: {&#34;params&#34;: [&#34;-0.763943726841098&#34;], &#34;type&#34;: &#34;ZZPhase&#34;}}, {&#34;args&#34;: [[&#34;q&#34;, [1]]], &#34;op&#34;: {&#34;params&#34;: [&#34;0.636619772367581&#34;], &#34;type&#34;: &#34;Rx&#34;}}, {&#34;args&#34;: [[&#34;q&#34;, [2]], [&#34;q&#34;, [3]]], &#34;op&#34;: {&#34;params&#34;: [&#34;-0.763943726841098&#34;], &#34;type&#34;: &#34;ZZPhase&#34;}}, {&#34;args&#34;: [[&#34;q&#34;, [2]]], &#34;op&#34;: {&#34;params&#34;: [&#34;0.636619772367581&#34;], &#34;type&#34;: &#34;Rx&#34;}}, {&#34;args&#34;: [[&#34;q&#34;, [3]]], &#34;op&#34;: {&#34;params&#34;: [&#34;0.636619772367581&#34;], &#34;type&#34;: &#34;Rx&#34;}}], &#34;created_qubits&#34;: [], &#34;discarded_qubits&#34;: [], &#34;implicit_permutation&#34;: [[[&#34;q&#34;, [0]], [&#34;q&#34;, [0]]], [[&#34;q&#34;, [1]], [&#34;q&#34;, [1]]], [[&#34;q&#34;, [2]], [&#34;q&#34;, [2]]], [[&#34;q&#34;, [3]], [&#34;q&#34;, [3]]]], &#34;phase&#34;: &#34;0.0&#34;, &#34;qubits&#34;: [[&#34;q&#34;, [0]], [&#34;q&#34;, [1]], [&#34;q&#34;, [2]], [&#34;q&#34;, [3]]]}&lt;/div&gt;\n",
       "        &lt;/div&gt;\n",
       "        &lt;circuit-display-container\n",
       "                :circuit-element-str=&#34;&#39;#circuit-json-to-display&#39;&#34;\n",
       "                :init-render-options=&#34;initRenderOptions&#34;\n",
       "                view-format=&#34;None&#34;\n",
       "        &gt;&lt;/circuit-display-container&gt;\n",
       "    &lt;/div&gt;\n",
       "    &lt;script type=&#34;application/javascript&#34;&gt;\n",
       "      const circuitRendererUid = &#34;fd589169-d824-4514-80aa-3d9f5f848270&#34;;\n",
       "      const displayOptions = JSON.parse(&#39;{&#34;zxStyle&#34;: false, &#34;cropParams&#34;: false}&#39;);\n",
       "\n",
       "      // Script to initialise the circuit renderer app\n",
       "\n",
       "const { createApp } = Vue;\n",
       "const circuitDisplayContainer = window[&#34;pytket-circuit-renderer&#34;].default;\n",
       "// Init variables to be shared between circuit display instances\n",
       "if (typeof window.pytketCircuitDisplays === &#34;undefined&#34;) {\n",
       "    window.pytketCircuitDisplays = {};\n",
       "}\n",
       "// Create the root Vue component\n",
       "const app = createApp({\n",
       "    delimiters: [&#39;[[#&#39;, &#39;#]]&#39;],\n",
       "    components: { circuitDisplayContainer },\n",
       "    data () {\n",
       "      return {\n",
       "        initRenderOptions: displayOptions,\n",
       "      }\n",
       "    }\n",
       "})\n",
       "app.config.unwrapInjectedRef = true;\n",
       "app.mount(&#34;#circuit-display-vue-container-&#34;+circuitRendererUid);\n",
       "window.pytketCircuitDisplays[circuitRendererUid] = app;\n",
       "    &lt;/script&gt;\n",
       "\n",
       "\n",
       "\n",
       "&lt;/body&gt;\n",
       "&lt;/html&gt;\n",
       "\"\n",
       "            width=\"100%\" height=\"100%\"\n",
       "            style=\"border: none; outline: none; overflow: auto\"></iframe>\n",
       "</div>\n",
       "\n"
      ],
      "text/plain": [
       "<IPython.core.display.HTML object>"
      ]
     },
     "metadata": {},
     "output_type": "display_data"
    }
   ],
   "source": [
    "draw_ising_circ_N_qubits(N=4)"
   ]
  },
  {
   "cell_type": "code",
   "execution_count": 1091,
   "metadata": {},
   "outputs": [],
   "source": [
    "def make_trotterised(\n",
    "        num_trotter_steps,\n",
    "        num_qubits,\n",
    "        circ_obj, \n",
    "        total_t,\n",
    "        H_ising\n",
    ") -> object:\n",
    "    \"\"\"\n",
    "    Input a H_Ising for 1 trotterization time step\n",
    "    iterate through num_trotter_steps and on each step\n",
    "        add one an additional layer of trotterization \n",
    "    return updated circuit object\n",
    "    \"\"\"\n",
    "    for step in range(num_trotter_steps):\n",
    "        #circ_obj = H_ising_1trot(num_qubits, circ_obj, total_t/num_trotter_steps, param_dict)\n",
    "        circ_obj = H_ising(\n",
    "            N=num_qubits,\n",
    "            # intentional to keep adding to the circuit\n",
    "            circ_obj=circ_obj,\n",
    "            t=(total_t / num_trotter_steps)\n",
    "        )\n",
    "\n",
    "        # circ_obj.add_barrier(np.arange(num_qubits))\n",
    "    return circ_obj"
   ]
  },
  {
   "cell_type": "code",
   "execution_count": 1092,
   "metadata": {},
   "outputs": [],
   "source": [
    "def euclidean_distance(\n",
    "    trotterized: np.array,\n",
    "    analytical: np.array,\n",
    "    debug: bool = False\n",
    ") -> float: \n",
    "    import scipy.spatial.distance as distance\n",
    "    return distance.euclidean(trotterized, analytical)"
   ]
  },
  {
   "cell_type": "code",
   "execution_count": 1093,
   "metadata": {},
   "outputs": [],
   "source": [
    "from typing import Callable\n",
    "\n",
    "def trotter_test(\n",
    "    H_ising: Callable,\n",
    "    num_trotter_steps: int,\n",
    "    N: int,\n",
    "    J: float = 1.2,\n",
    "    g: int = 1,\n",
    "    t: int = 1,\n",
    ") -> None:\n",
    "    \"\"\"\n",
    "    make a circuit with N qubits\n",
    "    pass to trotterize function and get the circuit out\n",
    "    return circuit\n",
    "    \"\"\"\n",
    "    circ = Circuit(N)\n",
    "    circ = make_trotterised(\n",
    "        num_trotter_steps=num_trotter_steps,\n",
    "        num_qubits=N,\n",
    "        circ_obj=circ,\n",
    "        total_t=t,\n",
    "        H_ising=H_ising\n",
    "    )\n",
    "    return circ\n",
    "\n",
    "def measure_trotterised_circuit(\n",
    "    analytical_function: Callable,\n",
    "    circ: object,\n",
    "    N: int,\n",
    "    noise: float = 0.01,\n",
    "    J: float = 1.2,\n",
    "    g: int = 1,\n",
    "    t: int = 1,\n",
    "    debug: bool = False\n",
    ") -> float:\n",
    "    \"\"\"\n",
    "    visualize the measurements of the trotterised circuit\n",
    "    returns the euclidean dist between\n",
    "        the trotterised result and the classical result \n",
    "    \"\"\"\n",
    "    from pytket.extensions.qiskit import AerBackend, AerStateBackend\n",
    "    from qiskit_aer.noise import NoiseModel\n",
    "    noise_model = NoiseModel()\n",
    "\n",
    "    for q in range(N):\n",
    "        noise_model.add_readout_error(\n",
    "            [\n",
    "                [1-noise, noise],\n",
    "                [noise, 1-noise]\n",
    "            ]\n",
    "            [q]\n",
    "        )\n",
    "        \n",
    "    \n",
    "    # backend = AerBackend(noise_model=noise_model)\n",
    "    # c = backend.get_compiled_circuit(circ)\n",
    "    # noisy_handle = backend.process_circuit(c, n_shots=10, seed=1, valid_check=True)\n",
    "    # results = backend.get_result(noisy_handle)\n",
    "    # print(results.to_dict())\n",
    "    # counts = results.get_counts()\n",
    "    \n",
    "    backend = AerStateBackend(n_qubits=N)\n",
    "    c = backend.get_compiled_circuit(circ)\n",
    "    handle = backend.process_circuit(c)\n",
    "    state = backend.get_result(handle).get_state()\n",
    "    \n",
    "    \n",
    "    # noisy_handle = backend.process_circuit(circ, n_shots=10, seed=1, valid_check=False)\n",
    "    # noisy_handle = backend.get_result(noisy_handle).get_counts()\n",
    "\n",
    "    analytical_result = analytical_function(\n",
    "        N=N,\n",
    "        t=t\n",
    "    )\n",
    "    print(analytical_result)\n",
    "\n",
    "    # trotterized: np.array, analytical: np.array\n",
    "    eucl_dist_btwn = euclidean_distance(\n",
    "        analytical=analytical_result,\n",
    "        trotterized=state\n",
    "    )\n",
    "    print(f'{eucl_dist_btwn = }\\n')\n",
    "    if debug:\n",
    "        draw(circ)\n",
    "\n",
    "    return eucl_dist_btwn\n"
   ]
  },
  {
   "cell_type": "code",
   "execution_count": 1094,
   "metadata": {},
   "outputs": [
    {
     "name": "stdout",
     "output_type": "stream",
     "text": [
      "n_trotter_steps = [1, 21, 41, 61, 81, 101, 121, 141, 161, 181, 201]\n"
     ]
    }
   ],
   "source": [
    "# Trotterisation constants / given values\n",
    "t = 1\n",
    "start, stop, step = 1, 202, 20\n",
    "n_trotter_steps = list(range(start, stop, step))\n",
    "print(f'{n_trotter_steps = }')"
   ]
  },
  {
   "cell_type": "code",
   "execution_count": 1095,
   "metadata": {},
   "outputs": [],
   "source": [
    "def graph_euclidean_distance(x: list, y: list) -> None:\n",
    "    import matplotlib.pyplot as plt\n",
    "    plt.plot(x, y)\n",
    "    plt.xscale(\"log\")\n",
    "    plt.yscale(\"log\")\n",
    "    plt.xlabel('Number of Trotter Steps')\n",
    "    plt.ylabel('Euclidean Distance')\n",
    "    plt.title('Trotterisation of H_Ising')\n",
    "    plt.show()"
   ]
  },
  {
   "cell_type": "code",
   "execution_count": 1096,
   "metadata": {},
   "outputs": [
    {
     "name": "stdout",
     "output_type": "stream",
     "text": [
      "[-0.06100121-5.36323148e-01j -0.0356564 +3.37975795e-01j\n",
      " -0.00740993+4.61843574e-02j  0.23217355-2.14710399e-01j\n",
      " -0.00740993+4.61843574e-02j  0.07520985-1.27363892e-17j\n",
      " -0.09218904+3.95581002e-02j -0.14484724+6.98620805e-02j\n",
      " -0.0356564 +3.37975795e-01j  0.08564503-2.54268499e-01j\n",
      "  0.07520985+4.70567712e-17j -0.08284189+1.19842369e-01j\n",
      "  0.23217355-2.14710399e-01j -0.08284189+1.19842369e-01j\n",
      " -0.14484724+6.98620805e-02j  0.01045855+2.92584750e-01j]\n",
      "eucl_dist_btwn = 1.462055704920686\n",
      "\n",
      "meas_trot_circ = 1.462055704920686\n",
      "[-0.06100121-5.36323148e-01j -0.0356564 +3.37975795e-01j\n",
      " -0.00740993+4.61843574e-02j  0.23217355-2.14710399e-01j\n",
      " -0.00740993+4.61843574e-02j  0.07520985-1.27363892e-17j\n",
      " -0.09218904+3.95581002e-02j -0.14484724+6.98620805e-02j\n",
      " -0.0356564 +3.37975795e-01j  0.08564503-2.54268499e-01j\n",
      "  0.07520985+4.70567712e-17j -0.08284189+1.19842369e-01j\n",
      "  0.23217355-2.14710399e-01j -0.08284189+1.19842369e-01j\n",
      " -0.14484724+6.98620805e-02j  0.01045855+2.92584750e-01j]\n",
      "eucl_dist_btwn = 0.059201056923056376\n",
      "\n",
      "meas_trot_circ = 0.059201056923056376\n",
      "[-0.06100121-5.36323148e-01j -0.0356564 +3.37975795e-01j\n",
      " -0.00740993+4.61843574e-02j  0.23217355-2.14710399e-01j\n",
      " -0.00740993+4.61843574e-02j  0.07520985-1.27363892e-17j\n",
      " -0.09218904+3.95581002e-02j -0.14484724+6.98620805e-02j\n",
      " -0.0356564 +3.37975795e-01j  0.08564503-2.54268499e-01j\n",
      "  0.07520985+4.70567712e-17j -0.08284189+1.19842369e-01j\n",
      "  0.23217355-2.14710399e-01j -0.08284189+1.19842369e-01j\n",
      " -0.14484724+6.98620805e-02j  0.01045855+2.92584750e-01j]\n",
      "eucl_dist_btwn = 0.030499599325719495\n",
      "\n",
      "meas_trot_circ = 0.030499599325719495\n",
      "[-0.06100121-5.36323148e-01j -0.0356564 +3.37975795e-01j\n",
      " -0.00740993+4.61843574e-02j  0.23217355-2.14710399e-01j\n",
      " -0.00740993+4.61843574e-02j  0.07520985-1.27363892e-17j\n",
      " -0.09218904+3.95581002e-02j -0.14484724+6.98620805e-02j\n",
      " -0.0356564 +3.37975795e-01j  0.08564503-2.54268499e-01j\n",
      "  0.07520985+4.70567712e-17j -0.08284189+1.19842369e-01j\n",
      "  0.23217355-2.14710399e-01j -0.08284189+1.19842369e-01j\n",
      " -0.14484724+6.98620805e-02j  0.01045855+2.92584750e-01j]\n",
      "eucl_dist_btwn = 0.020542452547808024\n",
      "\n",
      "meas_trot_circ = 0.020542452547808024\n",
      "[-0.06100121-5.36323148e-01j -0.0356564 +3.37975795e-01j\n",
      " -0.00740993+4.61843574e-02j  0.23217355-2.14710399e-01j\n",
      " -0.00740993+4.61843574e-02j  0.07520985-1.27363892e-17j\n",
      " -0.09218904+3.95581002e-02j -0.14484724+6.98620805e-02j\n",
      " -0.0356564 +3.37975795e-01j  0.08564503-2.54268499e-01j\n",
      "  0.07520985+4.70567712e-17j -0.08284189+1.19842369e-01j\n",
      "  0.23217355-2.14710399e-01j -0.08284189+1.19842369e-01j\n",
      " -0.14484724+6.98620805e-02j  0.01045855+2.92584750e-01j]\n",
      "eucl_dist_btwn = 0.01548678412939752\n",
      "\n",
      "meas_trot_circ = 0.01548678412939752\n",
      "[-0.06100121-5.36323148e-01j -0.0356564 +3.37975795e-01j\n",
      " -0.00740993+4.61843574e-02j  0.23217355-2.14710399e-01j\n",
      " -0.00740993+4.61843574e-02j  0.07520985-1.27363892e-17j\n",
      " -0.09218904+3.95581002e-02j -0.14484724+6.98620805e-02j\n",
      " -0.0356564 +3.37975795e-01j  0.08564503-2.54268499e-01j\n",
      "  0.07520985+4.70567712e-17j -0.08284189+1.19842369e-01j\n",
      "  0.23217355-2.14710399e-01j -0.08284189+1.19842369e-01j\n",
      " -0.14484724+6.98620805e-02j  0.01045855+2.92584750e-01j]\n",
      "eucl_dist_btwn = 0.012428173762443893\n",
      "\n",
      "meas_trot_circ = 0.012428173762443893\n",
      "[-0.06100121-5.36323148e-01j -0.0356564 +3.37975795e-01j\n",
      " -0.00740993+4.61843574e-02j  0.23217355-2.14710399e-01j\n",
      " -0.00740993+4.61843574e-02j  0.07520985-1.27363892e-17j\n",
      " -0.09218904+3.95581002e-02j -0.14484724+6.98620805e-02j\n",
      " -0.0356564 +3.37975795e-01j  0.08564503-2.54268499e-01j\n",
      "  0.07520985+4.70567712e-17j -0.08284189+1.19842369e-01j\n",
      "  0.23217355-2.14710399e-01j -0.08284189+1.19842369e-01j\n",
      " -0.14484724+6.98620805e-02j  0.01045855+2.92584750e-01j]\n",
      "eucl_dist_btwn = 0.010378468419091041\n",
      "\n",
      "meas_trot_circ = 0.010378468419091041\n",
      "[-0.06100121-5.36323148e-01j -0.0356564 +3.37975795e-01j\n",
      " -0.00740993+4.61843574e-02j  0.23217355-2.14710399e-01j\n",
      " -0.00740993+4.61843574e-02j  0.07520985-1.27363892e-17j\n",
      " -0.09218904+3.95581002e-02j -0.14484724+6.98620805e-02j\n",
      " -0.0356564 +3.37975795e-01j  0.08564503-2.54268499e-01j\n",
      "  0.07520985+4.70567712e-17j -0.08284189+1.19842369e-01j\n",
      "  0.23217355-2.14710399e-01j -0.08284189+1.19842369e-01j\n",
      " -0.14484724+6.98620805e-02j  0.01045855+2.92584750e-01j]\n",
      "eucl_dist_btwn = 0.008909144932483931\n",
      "\n",
      "meas_trot_circ = 0.008909144932483931\n",
      "[-0.06100121-5.36323148e-01j -0.0356564 +3.37975795e-01j\n",
      " -0.00740993+4.61843574e-02j  0.23217355-2.14710399e-01j\n",
      " -0.00740993+4.61843574e-02j  0.07520985-1.27363892e-17j\n",
      " -0.09218904+3.95581002e-02j -0.14484724+6.98620805e-02j\n",
      " -0.0356564 +3.37975795e-01j  0.08564503-2.54268499e-01j\n",
      "  0.07520985+4.70567712e-17j -0.08284189+1.19842369e-01j\n",
      "  0.23217355-2.14710399e-01j -0.08284189+1.19842369e-01j\n",
      " -0.14484724+6.98620805e-02j  0.01045855+2.92584750e-01j]\n",
      "eucl_dist_btwn = 0.007804266401037011\n",
      "\n",
      "meas_trot_circ = 0.007804266401037011\n",
      "[-0.06100121-5.36323148e-01j -0.0356564 +3.37975795e-01j\n",
      " -0.00740993+4.61843574e-02j  0.23217355-2.14710399e-01j\n",
      " -0.00740993+4.61843574e-02j  0.07520985-1.27363892e-17j\n",
      " -0.09218904+3.95581002e-02j -0.14484724+6.98620805e-02j\n",
      " -0.0356564 +3.37975795e-01j  0.08564503-2.54268499e-01j\n",
      "  0.07520985+4.70567712e-17j -0.08284189+1.19842369e-01j\n",
      "  0.23217355-2.14710399e-01j -0.08284189+1.19842369e-01j\n",
      " -0.14484724+6.98620805e-02j  0.01045855+2.92584750e-01j]\n",
      "eucl_dist_btwn = 0.0069431992842439085\n",
      "\n",
      "meas_trot_circ = 0.0069431992842439085\n",
      "[-0.06100121-5.36323148e-01j -0.0356564 +3.37975795e-01j\n",
      " -0.00740993+4.61843574e-02j  0.23217355-2.14710399e-01j\n",
      " -0.00740993+4.61843574e-02j  0.07520985-1.27363892e-17j\n",
      " -0.09218904+3.95581002e-02j -0.14484724+6.98620805e-02j\n",
      " -0.0356564 +3.37975795e-01j  0.08564503-2.54268499e-01j\n",
      "  0.07520985+4.70567712e-17j -0.08284189+1.19842369e-01j\n",
      "  0.23217355-2.14710399e-01j -0.08284189+1.19842369e-01j\n",
      " -0.14484724+6.98620805e-02j  0.01045855+2.92584750e-01j]\n",
      "eucl_dist_btwn = 0.00625326038043169\n",
      "\n",
      "meas_trot_circ = 0.00625326038043169\n"
     ]
    },
    {
     "data": {
      "image/png": "[encoded data removed]",
      "text/plain": [
       "<Figure size 640x480 with 1 Axes>"
      ]
     },
     "metadata": {},
     "output_type": "display_data"
    }
   ],
   "source": [
    "# test trotterisation\n",
    "N = 4  # 0, 1, 2, 3\n",
    "# FIXME: e\n",
    "\n",
    "euclidean_distances = []\n",
    "\n",
    "for num_trotter_steps in n_trotter_steps:\n",
    "    \n",
    "    circ_trot = trotter_test(\n",
    "        num_trotter_steps=num_trotter_steps,\n",
    "        N=N,\n",
    "        H_ising=H_ising,\n",
    "    )\n",
    "\n",
    "    meas_trot_circ = measure_trotterised_circuit(\n",
    "        analytical_function=analytical_ising,\n",
    "        circ=circ_trot,\n",
    "        N=N,\n",
    "        # debug=True\n",
    "    )\n",
    "    \n",
    "    euclidean_distances.append(meas_trot_circ)\n",
    "    print(f'{meas_trot_circ = }')\n",
    "\n",
    "graph_euclidean_distance(n_trotter_steps, euclidean_distances)"
   ]
  },
  {
   "cell_type": "raw",
   "metadata": {},
   "source": [
    "circ.measure_all()"
   ]
  },
  {
   "cell_type": "markdown",
   "metadata": {},
   "source": [
    "### Task 3: Do the same for the XXZ model\n",
    "\n",
    "What would you expect. Why is there no Trotter error?"
   ]
  },
  {
   "cell_type": "code",
   "execution_count": 1097,
   "metadata": {},
   "outputs": [],
   "source": [
    "# Define the constant delta\n",
    "delta = 0.1\n",
    "\n",
    "def new_HXXZ(circ_obj, t, N):\n",
    "    for k in range(N-1):\n",
    "        circ_obj.ZZPhase(2*t*delta/np.pi, k, k+1)\n",
    "        circ_obj.YYPhase(1/np.pi, k, k+1)\n",
    "        circ_obj.XXPhase(1/np.pi, k, k+1)\n",
    "    return circ_obj"
   ]
  },
  {
   "cell_type": "code",
   "execution_count": 1098,
   "metadata": {},
   "outputs": [],
   "source": [
    "def poly_math(\n",
    "        pauli_gate: np.array,\n",
    "        N: int\n",
    "):\n",
    "    \n",
    "    return np.sum(\n",
    "        [\n",
    "            np.kron(\n",
    "                np.kron(np.eye(2**(i-1), dtype=int), pauli_gate),\n",
    "                np.kron(pauli_gate, np.eye(2**(N-i-1), dtype=int))\n",
    "            )\n",
    "            # python does -1 to the last term of range so this is 1...N-1 fyi\n",
    "            for i in range(1, N)\n",
    "        ],\n",
    "        axis=0\n",
    "    )"
   ]
  },
  {
   "cell_type": "code",
   "execution_count": 1099,
   "metadata": {},
   "outputs": [],
   "source": [
    "def new_analytical_ising(\n",
    "    N: int,\n",
    "    t: int = 1,\n",
    "    g: int = 1,\n",
    "    J: float = 1.2,\n",
    "    debug: bool = False\n",
    ") -> np.array:\n",
    "    i = 1j\n",
    "    \n",
    "    Z = np.array([[1,0],\n",
    "                 [0,-1]])\n",
    "    Y = np.array([[0, -i],\n",
    "                 [i, 0]])\n",
    "    X = np.array([[0,1],\n",
    "                [1,0]])\n",
    "    z_sum = poly_math(Z, N)\n",
    "    y_sum = poly_math(Y, N)\n",
    "    x_sum = poly_math(X, N)\n",
    "\n",
    "    H = delta * z_sum + x_sum + y_sum\n",
    "\n",
    "    V = np.zeros(len(H))\n",
    "    V[0] = 1\n",
    "    \n",
    "    from scipy.linalg import expm\n",
    "    exponent = -i * H * t\n",
    "   \n",
    "    vector = expm(exponent) @ V\n",
    "    \n",
    "    print(vector)\n",
    "\n",
    "    return vector"
   ]
  },
  {
   "cell_type": "code",
   "execution_count": 1100,
   "metadata": {},
   "outputs": [
    {
     "name": "stdout",
     "output_type": "stream",
     "text": [
      "[0.95533649-0.29552021j 0.        +0.j         0.        +0.j\n",
      " 0.        +0.j         0.        +0.j         0.        +0.j\n",
      " 0.        +0.j         0.        +0.j         0.        +0.j\n",
      " 0.        +0.j         0.        +0.j         0.        +0.j\n",
      " 0.        +0.j         0.        +0.j         0.        +0.j\n",
      " 0.        +0.j        ]\n",
      "[0.95533649-0.29552021j 0.        +0.j         0.        +0.j\n",
      " 0.        +0.j         0.        +0.j         0.        +0.j\n",
      " 0.        +0.j         0.        +0.j         0.        +0.j\n",
      " 0.        +0.j         0.        +0.j         0.        +0.j\n",
      " 0.        +0.j         0.        +0.j         0.        +0.j\n",
      " 0.        +0.j        ]\n",
      "eucl_dist_btwn = 1.8439700712719115e-15\n",
      "\n",
      "meas_trot_circ = 1.8439700712719115e-15\n",
      "[0.95533649-0.29552021j 0.        +0.j         0.        +0.j\n",
      " 0.        +0.j         0.        +0.j         0.        +0.j\n",
      " 0.        +0.j         0.        +0.j         0.        +0.j\n",
      " 0.        +0.j         0.        +0.j         0.        +0.j\n",
      " 0.        +0.j         0.        +0.j         0.        +0.j\n",
      " 0.        +0.j        ]\n",
      "[0.95533649-0.29552021j 0.        +0.j         0.        +0.j\n",
      " 0.        +0.j         0.        +0.j         0.        +0.j\n",
      " 0.        +0.j         0.        +0.j         0.        +0.j\n",
      " 0.        +0.j         0.        +0.j         0.        +0.j\n",
      " 0.        +0.j         0.        +0.j         0.        +0.j\n",
      " 0.        +0.j        ]\n",
      "eucl_dist_btwn = 1.8898489657853075e-14\n",
      "\n",
      "meas_trot_circ = 1.8898489657853075e-14\n"
     ]
    },
    {
     "ename": "KeyboardInterrupt",
     "evalue": "",
     "output_type": "error",
     "traceback": [
      "\u001b[0;31m---------------------------------------------------------------------------\u001b[0m",
      "\u001b[0;31mKeyboardInterrupt\u001b[0m                         Traceback (most recent call last)",
      "Cell \u001b[0;32mIn[1100], line 14\u001b[0m\n\u001b[1;32m      6\u001b[0m \u001b[38;5;28;01mfor\u001b[39;00m num_trotter_steps \u001b[38;5;129;01min\u001b[39;00m n_trotter_steps:\n\u001b[1;32m      8\u001b[0m     circ_trot \u001b[38;5;241m=\u001b[39m trotter_test(\n\u001b[1;32m      9\u001b[0m         num_trotter_steps\u001b[38;5;241m=\u001b[39mnum_trotter_steps,\n\u001b[1;32m     10\u001b[0m         N\u001b[38;5;241m=\u001b[39mN,\n\u001b[1;32m     11\u001b[0m         H_ising\u001b[38;5;241m=\u001b[39mnew_HXXZ,\n\u001b[1;32m     12\u001b[0m     )\n\u001b[0;32m---> 14\u001b[0m     meas_trot_circ \u001b[38;5;241m=\u001b[39m \u001b[43mmeasure_trotterised_circuit\u001b[49m\u001b[43m(\u001b[49m\n\u001b[1;32m     15\u001b[0m \u001b[43m        \u001b[49m\u001b[43mcirc\u001b[49m\u001b[38;5;241;43m=\u001b[39;49m\u001b[43mcirc_trot\u001b[49m\u001b[43m,\u001b[49m\n\u001b[1;32m     16\u001b[0m \u001b[43m        \u001b[49m\u001b[43mN\u001b[49m\u001b[38;5;241;43m=\u001b[39;49m\u001b[43mN\u001b[49m\u001b[43m,\u001b[49m\n\u001b[1;32m     17\u001b[0m \u001b[43m        \u001b[49m\u001b[43manalytical_function\u001b[49m\u001b[38;5;241;43m=\u001b[39;49m\u001b[43mnew_analytical_ising\u001b[49m\n\u001b[1;32m     18\u001b[0m \u001b[43m        \u001b[49m\u001b[38;5;66;43;03m# debug=True\u001b[39;49;00m\n\u001b[1;32m     19\u001b[0m \u001b[43m    \u001b[49m\u001b[43m)\u001b[49m\n\u001b[1;32m     21\u001b[0m     euclidean_distances\u001b[38;5;241m.\u001b[39mappend(meas_trot_circ)\n\u001b[1;32m     22\u001b[0m     \u001b[38;5;28mprint\u001b[39m(\u001b[38;5;124mf\u001b[39m\u001b[38;5;124m'\u001b[39m\u001b[38;5;132;01m{\u001b[39;00mmeas_trot_circ\u001b[38;5;250m \u001b[39m\u001b[38;5;132;01m= }\u001b[39;00m\u001b[38;5;124m'\u001b[39m)\n",
      "Cell \u001b[0;32mIn[1093], line 63\u001b[0m, in \u001b[0;36mmeasure_trotterised_circuit\u001b[0;34m(analytical_function, circ, N, noise, J, g, t, debug)\u001b[0m\n\u001b[1;32m     55\u001b[0m \u001b[38;5;66;03m# backend = AerBackend(noise_model=noise_model)\u001b[39;00m\n\u001b[1;32m     56\u001b[0m \u001b[38;5;66;03m# c = backend.get_compiled_circuit(circ)\u001b[39;00m\n\u001b[1;32m     57\u001b[0m \u001b[38;5;66;03m# noisy_handle = backend.process_circuit(c, n_shots=10, seed=1, valid_check=True)\u001b[39;00m\n\u001b[1;32m     58\u001b[0m \u001b[38;5;66;03m# results = backend.get_result(noisy_handle)\u001b[39;00m\n\u001b[1;32m     59\u001b[0m \u001b[38;5;66;03m# print(results.to_dict())\u001b[39;00m\n\u001b[1;32m     60\u001b[0m \u001b[38;5;66;03m# counts = results.get_counts()\u001b[39;00m\n\u001b[1;32m     62\u001b[0m backend \u001b[38;5;241m=\u001b[39m AerStateBackend()\n\u001b[0;32m---> 63\u001b[0m c \u001b[38;5;241m=\u001b[39m \u001b[43mbackend\u001b[49m\u001b[38;5;241;43m.\u001b[39;49m\u001b[43mget_compiled_circuit\u001b[49m\u001b[43m(\u001b[49m\u001b[43mcirc\u001b[49m\u001b[43m)\u001b[49m\n\u001b[1;32m     64\u001b[0m handle \u001b[38;5;241m=\u001b[39m backend\u001b[38;5;241m.\u001b[39mprocess_circuit(c)\n\u001b[1;32m     65\u001b[0m state \u001b[38;5;241m=\u001b[39m backend\u001b[38;5;241m.\u001b[39mget_result(handle)\u001b[38;5;241m.\u001b[39mget_state()\n",
      "File \u001b[0;32m~/2025-Quantinuum/.venv/lib/python3.13/site-packages/pytket/extensions/qiskit/backends/aer.py:337\u001b[0m, in \u001b[0;36m_AerBaseBackend.get_compiled_circuit\u001b[0;34m(self, circuit, optimisation_level, timeout)\u001b[0m\n\u001b[1;32m    332\u001b[0m \u001b[38;5;28;01mif\u001b[39;00m optimisation_level \u001b[38;5;241m==\u001b[39m \u001b[38;5;241m3\u001b[39m \u001b[38;5;129;01mand\u001b[39;00m circuit\u001b[38;5;241m.\u001b[39mn_gates_of_type(OpType\u001b[38;5;241m.\u001b[39mBarrier) \u001b[38;5;241m>\u001b[39m \u001b[38;5;241m0\u001b[39m:\n\u001b[1;32m    333\u001b[0m     warnings\u001b[38;5;241m.\u001b[39mwarn(\n\u001b[1;32m    334\u001b[0m         \u001b[38;5;124m\"\u001b[39m\u001b[38;5;124mBarrier operations in this circuit will be removed when using \u001b[39m\u001b[38;5;124m\"\u001b[39m\n\u001b[1;32m    335\u001b[0m         \u001b[38;5;124m\"\u001b[39m\u001b[38;5;124moptimisation level 3.\u001b[39m\u001b[38;5;124m\"\u001b[39m\n\u001b[1;32m    336\u001b[0m     )\n\u001b[0;32m--> 337\u001b[0m \u001b[38;5;28;43mself\u001b[39;49m\u001b[38;5;241;43m.\u001b[39;49m\u001b[43mdefault_compilation_pass\u001b[49m\u001b[43m(\u001b[49m\u001b[43moptimisation_level\u001b[49m\u001b[43m,\u001b[49m\u001b[43m \u001b[49m\u001b[43mtimeout\u001b[49m\u001b[43m)\u001b[49m\u001b[38;5;241;43m.\u001b[39;49m\u001b[43mapply\u001b[49m\u001b[43m(\u001b[49m\u001b[43mreturn_circuit\u001b[49m\u001b[43m)\u001b[49m\n\u001b[1;32m    338\u001b[0m \u001b[38;5;28;01mreturn\u001b[39;00m return_circuit\n",
      "\u001b[0;31mKeyboardInterrupt\u001b[0m: "
     ]
    }
   ],
   "source": [
    "# test trotterisation\n",
    "N = 4  # 0, 1, 2, 3\n",
    "# FIXME: e\n",
    "euclidean_distances = []\n",
    "\n",
    "for num_trotter_steps in n_trotter_steps:\n",
    "    \n",
    "    circ_trot = trotter_test(\n",
    "        num_trotter_steps=num_trotter_steps,\n",
    "        N=N,\n",
    "        H_ising=new_HXXZ,\n",
    "    )\n",
    "\n",
    "    meas_trot_circ = measure_trotterised_circuit(\n",
    "        circ=circ_trot,\n",
    "        N=N,\n",
    "        analytical_function=new_analytical_ising\n",
    "        # debug=True\n",
    "    )\n",
    "    \n",
    "    euclidean_distances.append(meas_trot_circ)\n",
    "    print(f'{meas_trot_circ = }')\n",
    "\n",
    "graph_euclidean_distance(n_trotter_steps, euclidean_distances)"
   ]
  },
  {
   "cell_type": "markdown",
   "metadata": {},
   "source": [
    "### Task 4: Influence of noise\n",
    "\n",
    "As a next step, we study the influence of noise. Using Quantinuum noise models, we can simulate the circuit under approximately realistic conditions. We focus on the transverse field Ising model in the following.\n",
    "\n",
    "In general, there will be a trade-off between Trotter error and noise. Smaller Trotter steps will reduce the Trotter error but also increase the circuit complexity, e.g. the number of two-qubit gates. This will generally increase errors coming from the noisy hardware.\n",
    "\n",
    "Explore this trade-off by simulating the Trotter circuit for varied Trotter step sizes and noise parameters."
   ]
  },
  {
   "cell_type": "code",
   "execution_count": 1102,
   "metadata": {},
   "outputs": [
    {
     "name": "stdout",
     "output_type": "stream",
     "text": [
      "NoiseModel: Ideal\n",
      "NoiseModel:\n",
      "  Basis gates: ['cx', 'id', 'rz', 'sx']\n",
      "  Instructions with noise: ['measure']\n",
      "  Qubits with noise: [0, 1]\n",
      "  Specific qubit errors: [('measure', (0,)), ('measure', (1,))]\n"
     ]
    },
    {
     "ename": "TypeError",
     "evalue": "FakeBackendV2.__init__() got an unexpected keyword argument 'noise_model'",
     "output_type": "error",
     "traceback": [
      "\u001b[0;31m---------------------------------------------------------------------------\u001b[0m",
      "\u001b[0;31mTypeError\u001b[0m                                 Traceback (most recent call last)",
      "Cell \u001b[0;32mIn[1102], line 20\u001b[0m\n\u001b[1;32m     18\u001b[0m \u001b[38;5;28mprint\u001b[39m(\u001b[38;5;124mf\u001b[39m\u001b[38;5;124m'\u001b[39m\u001b[38;5;132;01m{\u001b[39;00mnoise_model\u001b[38;5;132;01m}\u001b[39;00m\u001b[38;5;124m'\u001b[39m)\n\u001b[1;32m     19\u001b[0m circ \u001b[38;5;241m=\u001b[39m Circuit(n_qubits\u001b[38;5;241m=\u001b[39m\u001b[38;5;241m8\u001b[39m)\n\u001b[0;32m---> 20\u001b[0m noisy_aer_b \u001b[38;5;241m=\u001b[39m \u001b[43mFakeVigoV2\u001b[49m\u001b[43m(\u001b[49m\u001b[43mnoise_model\u001b[49m\u001b[38;5;241;43m=\u001b[39;49m\u001b[43mnoise_model\u001b[49m\u001b[43m)\u001b[49m\n\u001b[1;32m     21\u001b[0m noisy_handle \u001b[38;5;241m=\u001b[39m noisy_aer_b\u001b[38;5;241m.\u001b[39mprocess_circuit(circ, n_shots\u001b[38;5;241m=\u001b[39m\u001b[38;5;241m10\u001b[39m, seed\u001b[38;5;241m=\u001b[39m\u001b[38;5;241m1\u001b[39m, valid_check\u001b[38;5;241m=\u001b[39m\u001b[38;5;28;01mFalse\u001b[39;00m)\n\u001b[1;32m     22\u001b[0m noisy_handle \u001b[38;5;241m=\u001b[39m noisy_aer_b\u001b[38;5;241m.\u001b[39mget_result(noisy_handle)\u001b[38;5;241m.\u001b[39mget_counts()\n",
      "\u001b[0;31mTypeError\u001b[0m: FakeBackendV2.__init__() got an unexpected keyword argument 'noise_model'"
     ]
    }
   ],
   "source": [
    "from pytket.extensions.qiskit import AerBackend\n",
    "from qiskit_aer.noise import NoiseModel\n",
    "from qiskit_ibm_runtime.fake_provider import FakeVigoV2\n",
    "# import AerBackend\n",
    "noise_model = NoiseModel()\n",
    "print(noise_model)\n",
    "\n",
    "readout_error = 0.01\n",
    "for q in range(2):\n",
    "    noise_model.add_readout_error(\n",
    "        [\n",
    "            [1-readout_error, readout_error],\n",
    "            [readout_error, 1-readout_error]\n",
    "        ],\n",
    "        [q]\n",
    "    )\n",
    "\n",
    "print(f'{noise_model}')\n",
    "circ = Circuit(n_qubits=8)\n",
    "noisy_aer_b = FakeVigoV2(noise_model=noise_model)\n",
    "noisy_handle = noisy_aer_b.process_circuit(circ, n_shots=10, seed=1, valid_check=False)\n",
    "noisy_handle = noisy_aer_b.get_result(noisy_handle).get_counts()\n",
    "print(f'{noisy_handle = }')\n"
   ]
  },
  {
   "cell_type": "markdown",
   "metadata": {},
   "source": [
    "### Task 5: Other Hamiltonians\n",
    "\n",
    "You can try to implement other Hamiltonians you can find in the literature."
   ]
  },
  {
   "cell_type": "code",
   "execution_count": null,
   "metadata": {},
   "outputs": [],
   "source": []
  },
  {
   "cell_type": "markdown",
   "metadata": {},
   "source": [
    "## Section 2: Simulating quantum systems\n",
    "\n",
    "In the following we study several physically interesting cases of quantum system dynamics for the XXZ Hamiltonian."
   ]
  },
  {
   "cell_type": "code",
   "execution_count": 700,
   "metadata": {},
   "outputs": [],
   "source": [
    "import numpy as np\n",
    "from matplotlib import pyplot as plt\n",
    "\n",
    "from pytket.utils.expectations import get_operator_expectation_value\n",
    "from pytket.extensions.qiskit import AerBackend\n",
    "import time\n",
    "\n",
    "aer_sim = AerBackend()"
   ]
  },
  {
   "cell_type": "markdown",
   "metadata": {},
   "source": [
    "Let's first define our Hamiltonian again. We focus on the XXZ Heisenberg model here."
   ]
  },
  {
   "cell_type": "code",
   "execution_count": 701,
   "metadata": {},
   "outputs": [
    {
     "name": "stdout",
     "output_type": "stream",
     "text": [
      "{(Zq[0], Zq[1]): 1.72000000000000, (Xq[0], Xq[1]): 1.00000000000000, (Yq[0], Yq[1]): 1.00000000000000, (Zq[1], Zq[2]): 1.72000000000000, (Xq[1], Xq[2]): 1.00000000000000, (Yq[1], Yq[2]): 1.00000000000000, (Zq[2], Zq[3]): 1.72000000000000, (Xq[2], Xq[3]): 1.00000000000000, (Yq[2], Yq[3]): 1.00000000000000, (Zq[3], Zq[4]): 1.72000000000000, (Xq[3], Xq[4]): 1.00000000000000, (Yq[3], Yq[4]): 1.00000000000000}\n"
     ]
    }
   ],
   "source": [
    "n_qubits = 5\n",
    "Delta_ZZ = 1.72\n",
    "\n",
    "xxz_ham = get_xxz_chain_hamiltonian(n_qubits=n_qubits, Delta_ZZ=Delta_ZZ)\n",
    "print(xxz_ham)"
   ]
  },
  {
   "cell_type": "code",
   "execution_count": null,
   "metadata": {},
   "outputs": [],
   "source": []
  },
  {
   "cell_type": "markdown",
   "metadata": {},
   "source": [
    "### Task 1: Energy conservation\n",
    "\n",
    "The expectation value of the Hamiltonian $H$ gives the energy of the system. This energy does not change during unitary time evolution of the system, i.e. if the initial state has energy $E$, the energy of the system will be $E$ for all times.\n",
    "\n",
    "Below we will test how good our Trotterized circuit fulfills energy conservation."
   ]
  },
  {
   "cell_type": "markdown",
   "metadata": {},
   "source": [
    "We start by computing the energy of the initial zero state $\\ket{\\psi} = \\ket{0}^{\\otimes N}$. This is the default initial state if one generates an empty circuit without any further gates. We compute the expectation of $H$ using the `pytket` function `get_operator_expectation_value`. For simulating the (empty) circuit simulation we use the AerBackend and choose 1000 shots. The expectation value of any Hermitian operator is real. Because we are doing numerics, there might be a negligible imaginary part of order machine precision, which we can just discard."
   ]
  },
  {
   "cell_type": "code",
   "execution_count": 702,
   "metadata": {},
   "outputs": [
    {
     "name": "stdout",
     "output_type": "stream",
     "text": [
      "Energy: 6.946\n"
     ]
    }
   ],
   "source": [
    "n_qubits = 5\n",
    "n_shots = 1000\n",
    "\n",
    "initial_state_circtuit = Circuit(n_qubits=n_qubits, name=\"Initial state\")\n",
    "energy = get_operator_expectation_value(initial_state_circtuit, xxz_ham, aer_sim, n_shots=n_shots)\n",
    "print(\"Energy:\", energy.real)"
   ]
  },
  {
   "cell_type": "markdown",
   "metadata": {},
   "source": [
    "Test how the energy is changing if you apply a few simple gates before you compute the expectation value with `get_operator_expectation_value`."
   ]
  },
  {
   "cell_type": "markdown",
   "metadata": {},
   "source": [
    "Next we check if the energy is conserved under system evolution.\n",
    "- Use `t_max = 20`, discretize the interval `[1, t_max]` into several steps, e.g. `times = np.linspace(1, 20, 5)`, and generate the time evolution circuit for each `t` in `times`. You can use e.g. $\\Delta t = 3$.\n",
    "- Use `time_evolution_circ_compiled = aer_sim.get_compiled_circuit(time_evolution_circ, optimisation_level = 2)` to compile and optimize the circuit. Optimization will result in shorter simulation times.\n",
    "- Monitor the number of two-qubit gates of the compiled and uncompiled circuits as you change `t`. You get this number in pytket via `circ.2_qb_gates()`.\n",
    "- Compute the energy expectation at the output of each of those circuits. You can use a smaller number of shots, e.g. `n_shots = 100`, for this.\n",
    "- Plot the obtained energy expectation values against `times`.\n",
    "\n",
    "Hints:\n",
    "- To get two-qubit gate counts of the uncompiled circuit, you will probably need to decompose all boxes with `DecomposeBoxes().apply(time_evolution_circ)` before getting the gate count with `time_evolution_circ.n_2qb_gates()`.\n",
    "- As you will see, the optimization during compilation significantly reduces the two-qubit gate count. This will reduce the time it requires to simulate the circuit classically. Therefore, it is usually a good idea to optimize circuits before running them on either a classical simulator or actual quantum hardware.\n",
    "- You can also monitor the time to compute the expectation values for varied `t`. Plot these timings and the number of two-qubit gates versus `times`.\n",
    "- The energy expectation should roughly be the same for each `t` in `times`, i.e. stay constant."
   ]
  },
  {
   "cell_type": "code",
   "execution_count": 703,
   "metadata": {},
   "outputs": [],
   "source": [
    "t_max = 20\n",
    "n_shots = 100\n",
    "times = np.linspace(1, t_max, 5)\n",
    "trotter_step_size = 3"
   ]
  },
  {
   "cell_type": "code",
   "execution_count": null,
   "metadata": {},
   "outputs": [],
   "source": []
  },
  {
   "cell_type": "markdown",
   "metadata": {},
   "source": [
    "### Task 2: Influence of noise\n",
    "\n",
    "Study how hardware noise, emulated with e.g. the Quantinuum noise models, affects the results."
   ]
  },
  {
   "cell_type": "code",
   "execution_count": null,
   "metadata": {},
   "outputs": [],
   "source": []
  },
  {
   "cell_type": "markdown",
   "metadata": {},
   "source": [
    "### Task 3: Hamiltonian system dynamics\n",
    "\n",
    "Compute time dependent expectation values for other observable, for example $X^{(i)}$ for one of the qubits $i$, or a correlator $X^{(i)} X^{(j)}$. Would you expect these expectation values to vary in time?"
   ]
  },
  {
   "cell_type": "code",
   "execution_count": null,
   "metadata": {},
   "outputs": [],
   "source": []
  },
  {
   "cell_type": "markdown",
   "metadata": {},
   "source": [
    "### Task 4: Hamiltonian system dynamics\n",
    "\n",
    "Diagonalise the Hamiltonian numerically and obtain two eigenstates with different energies, for example take eigenstates of the two lowest energy levels. Use build-in functionality, such as pytket's `StatePreparationBox` to prepare a uniform superposition $\\ket{\\psi}$ of both states with a quantum circuit.\n",
    "\n",
    "Simulate the time evolution of the expectation value of $Z_i$ (or any other easy observable) with $\\ket{\\psi}$ as initial state, and plot the time evolution. What do you expect? How does the frequency of oscillation relate to the energy levels of the Hamiltonian?"
   ]
  },
  {
   "cell_type": "code",
   "execution_count": null,
   "metadata": {},
   "outputs": [],
   "source": []
  },
  {
   "cell_type": "markdown",
   "metadata": {},
   "source": [
    "### Task 5: Time evolution of the Ising model\n",
    "\n",
    "You can explore the above tasks for the Ising model instead of the XXZ model. Since the Ising model suffers Trotterization error, you might find that this model conserves energy less accurate as the XXZ model."
   ]
  },
  {
   "cell_type": "code",
   "execution_count": null,
   "metadata": {},
   "outputs": [],
   "source": []
  },
  {
   "cell_type": "code",
   "execution_count": null,
   "metadata": {},
   "outputs": [],
   "source": []
  },
  {
   "cell_type": "code",
   "execution_count": null,
   "metadata": {},
   "outputs": [],
   "source": []
  }
 ],
 "metadata": {
  "kernelspec": {
   "display_name": ".venv",
   "language": "python",
   "name": "python3"
  },
  "language_info": {
   "codemirror_mode": {
    "name": "ipython",
    "version": 3
   },
   "file_extension": ".py",
   "mimetype": "text/x-python",
   "name": "python",
   "nbconvert_exporter": "python",
   "pygments_lexer": "ipython3",
   "version": "3.13.0"
  }
 },
 "nbformat": 4,
 "nbformat_minor": 4
}
